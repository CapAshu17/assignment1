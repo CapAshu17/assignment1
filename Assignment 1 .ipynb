{
 "cells": [
  {
   "cell_type": "code",
   "execution_count": 1,
   "id": "94e43509-22af-4ef5-8dd3-73b8c8cd30dc",
   "metadata": {},
   "outputs": [],
   "source": [
    "a=100\n",
    "b=200 #Question 1 (pyhton basics variable)"
   ]
  },
  {
   "cell_type": "code",
   "execution_count": 2,
   "id": "9b06959f-e511-41c6-9eb0-530d52d69610",
   "metadata": {},
   "outputs": [],
   "source": [
    "a,b=b,a"
   ]
  },
  {
   "cell_type": "code",
   "execution_count": 3,
   "id": "98cda15e-7615-46f3-9865-ab3a36821827",
   "metadata": {},
   "outputs": [
    {
     "data": {
      "text/plain": [
       "200"
      ]
     },
     "execution_count": 3,
     "metadata": {},
     "output_type": "execute_result"
    }
   ],
   "source": [
    "a"
   ]
  },
  {
   "cell_type": "code",
   "execution_count": 4,
   "id": "d2b45453-30fe-4542-ba6f-93fbc8d0bf95",
   "metadata": {},
   "outputs": [
    {
     "data": {
      "text/plain": [
       "100"
      ]
     },
     "execution_count": 4,
     "metadata": {},
     "output_type": "execute_result"
    }
   ],
   "source": [
    "b"
   ]
  },
  {
   "cell_type": "code",
   "execution_count": 5,
   "id": "43145be9-bec6-47ac-834b-4830e7538696",
   "metadata": {},
   "outputs": [
    {
     "name": "stdout",
     "output_type": "stream",
     "text": [
      "Enter Length of Rectangle: \n"
     ]
    },
    {
     "name": "stdin",
     "output_type": "stream",
     "text": [
      " 20\n"
     ]
    },
    {
     "name": "stdout",
     "output_type": "stream",
     "text": [
      "Enter Breadth of Rectangle: \n"
     ]
    },
    {
     "name": "stdin",
     "output_type": "stream",
     "text": [
      " 10\n"
     ]
    },
    {
     "name": "stdout",
     "output_type": "stream",
     "text": [
      "\n",
      "Area =  200.0\n"
     ]
    }
   ],
   "source": [
    "#question 2 \n",
    "#Create a program that calculates the area of a rectangle. Take the length and\n",
    "#width as inputs from the user and store them in variables. Calculate and\n",
    "#display the area.\n",
    "\n",
    "print(\"Enter Length of Rectangle: \")\n",
    "l = float(input())\n",
    "print(\"Enter Breadth of Rectangle: \")\n",
    "b = float(input())\n",
    "a = l*b\n",
    "print(\"\\nArea = \", a)"
   ]
  },
  {
   "cell_type": "code",
   "execution_count": 11,
   "id": "74f5bbb0-1f44-4a3d-9c5f-57051d8907b7",
   "metadata": {},
   "outputs": [
    {
     "name": "stdin",
     "output_type": "stream",
     "text": [
      "Enter the Temperature in Celsius :\n",
      " 10\n"
     ]
    },
    {
     "name": "stdout",
     "output_type": "stream",
     "text": [
      "Temperature in Fahrenheit : 50.0\n"
     ]
    }
   ],
   "source": [
    "#question 3\n",
    "\"\"\"Write a Python program that converts temperatures from Celsius to\n",
    "Fahrenheit. Take the temperature in Celsius as input, store it in a variable,\n",
    "convert it to Fahrenheit, and display the result.\"\"\"\n",
    "#formula of cesius to fahrenheit is 1.8 * celsius) + 32\n",
    "celsius = int(input(\"Enter the Temperature in Celsius :\\n\"))\n",
    "fahrenheit = (1.8 * celsius) + 32\n",
    "print(\"Temperature in Fahrenheit :\", fahrenheit)"
   ]
  },
  {
   "cell_type": "code",
   "execution_count": 12,
   "id": "0021d8c9-f17c-45fd-a5da-053fca246017",
   "metadata": {},
   "outputs": [],
   "source": [
    "#String based questions\n",
    "#que 1\n",
    "\"\"\"Write a Python program that takes a string as input and prints the length of\n",
    "the string.\"\"\"\n",
    "a=1,2,3,4,5"
   ]
  },
  {
   "cell_type": "code",
   "execution_count": 13,
   "id": "3aa20275-96b7-4151-b284-dbb50d93a89a",
   "metadata": {},
   "outputs": [],
   "source": [
    "b=len(a)"
   ]
  },
  {
   "cell_type": "code",
   "execution_count": 14,
   "id": "a2b7e9e9-8c17-40db-8bf4-77eca594c0ff",
   "metadata": {},
   "outputs": [
    {
     "data": {
      "text/plain": [
       "5"
      ]
     },
     "execution_count": 14,
     "metadata": {},
     "output_type": "execute_result"
    }
   ],
   "source": [
    "b"
   ]
  },
  {
   "cell_type": "code",
   "execution_count": 18,
   "id": "1678f594-8920-4259-a13b-c5c500831912",
   "metadata": {},
   "outputs": [
    {
     "name": "stdin",
     "output_type": "stream",
     "text": [
      " Enter String :  sa re ga ma pa dha ni sa\n"
     ]
    },
    {
     "name": "stdout",
     "output_type": "stream",
     "text": [
      "Total Number of Vowels in this String =  8\n"
     ]
    }
   ],
   "source": [
    "#question2\n",
    "\"\"\"Create a program that takes a sentence from the user and counts the number\n",
    "of vowels (a, e, i, o, u) in the string.\"\"\"\n",
    "\n",
    "s1 = input(\" Enter String : \")\n",
    "vowels = 0\n",
    " \n",
    "for i in s1:\n",
    "    if(i == 'a' or i == 'e' or i == 'i' or i == 'o' or i == 'u'):\n",
    "        vowels = vowels + 1\n",
    " \n",
    "print(\"Total Number of Vowels in this String = \", vowels)"
   ]
  },
  {
   "cell_type": "code",
   "execution_count": 46,
   "id": "9d06fd71-5476-4ed0-bb4a-518d822a6836",
   "metadata": {},
   "outputs": [],
   "source": [
    "\"\"\" question 3\n",
    "Given a string, reverse the order of characters using string slicing and print\n",
    "the reversed string.\"\"\"\n",
    "\n",
    "l1=(\"123456789\")\n",
    "\n"
   ]
  },
  {
   "cell_type": "code",
   "execution_count": 47,
   "id": "df4c4fda-a7c0-4a3f-ac2c-e76e3a55c580",
   "metadata": {},
   "outputs": [
    {
     "data": {
      "text/plain": [
       "'123456789'"
      ]
     },
     "execution_count": 47,
     "metadata": {},
     "output_type": "execute_result"
    }
   ],
   "source": [
    "l1"
   ]
  },
  {
   "cell_type": "markdown",
   "id": "45342aa7-416c-4423-9d7e-e325a2e699aa",
   "metadata": {},
   "source": [
    "l1.reverse()"
   ]
  },
  {
   "cell_type": "code",
   "execution_count": 48,
   "id": "d231fa62-8d44-41bc-b0f9-f0dc88990a46",
   "metadata": {},
   "outputs": [
    {
     "data": {
      "text/plain": [
       "'123456789'"
      ]
     },
     "execution_count": 48,
     "metadata": {},
     "output_type": "execute_result"
    }
   ],
   "source": [
    "l1"
   ]
  },
  {
   "cell_type": "code",
   "execution_count": 49,
   "id": "488327d8-7f12-44b4-9f5c-83338b9f1041",
   "metadata": {},
   "outputs": [
    {
     "ename": "AttributeError",
     "evalue": "'str' object has no attribute 'reverse'",
     "output_type": "error",
     "traceback": [
      "\u001b[0;31m---------------------------------------------------------------------------\u001b[0m",
      "\u001b[0;31mAttributeError\u001b[0m                            Traceback (most recent call last)",
      "Cell \u001b[0;32mIn[49], line 1\u001b[0m\n\u001b[0;32m----> 1\u001b[0m \u001b[43ml1\u001b[49m\u001b[38;5;241;43m.\u001b[39;49m\u001b[43mreverse\u001b[49m()\n",
      "\u001b[0;31mAttributeError\u001b[0m: 'str' object has no attribute 'reverse'"
     ]
    }
   ],
   "source": [
    "l1.reverse()"
   ]
  },
  {
   "cell_type": "code",
   "execution_count": 59,
   "id": "21354095-c218-4c3d-8da6-e2a518819a64",
   "metadata": {},
   "outputs": [
    {
     "name": "stdout",
     "output_type": "stream",
     "text": [
      "[5, 4, 3, 2, 1]\n"
     ]
    }
   ],
   "source": [
    "my_list = [1, 2, 3, 4, 5]\n",
    "reversed_list = my_list[::-1]\n",
    "print(reversed_list)\n",
    "\n"
   ]
  },
  {
   "cell_type": "code",
   "execution_count": 60,
   "id": "d210d19f-3f45-4abf-9fe4-c40ae153ed0a",
   "metadata": {},
   "outputs": [
    {
     "name": "stdout",
     "output_type": "stream",
     "text": [
      "No\n"
     ]
    }
   ],
   "source": [
    "#question4\n",
    "# program to check if a string is palindrome or not\n",
    "\n",
    "x = \"independent\"\n",
    "\n",
    "y = \"\"\n",
    "for i in x:\n",
    "\tw = i + y\n",
    "\n",
    "if (x == y):\n",
    "\tprint(\"Yes\")\n",
    "else:\n",
    "\tprint(\"No\")\n"
   ]
  },
  {
   "cell_type": "code",
   "execution_count": 61,
   "id": "af97b3d7-a722-41ec-9620-0502706712fa",
   "metadata": {},
   "outputs": [],
   "source": [
    "#question5\n",
    "s5=\"python is awesome\""
   ]
  },
  {
   "cell_type": "code",
   "execution_count": 71,
   "id": "e3ceb290-560e-437b-8460-31f626141bc8",
   "metadata": {},
   "outputs": [],
   "source": [
    "s5=type(\"s5\")"
   ]
  },
  {
   "cell_type": "code",
   "execution_count": 73,
   "id": "1634549f-e826-4bed-aacc-e93b4e0f18a0",
   "metadata": {},
   "outputs": [
    {
     "data": {
      "text/plain": [
       "type"
      ]
     },
     "execution_count": 73,
     "metadata": {},
     "output_type": "execute_result"
    }
   ],
   "source": [
    "type(s5)"
   ]
  },
  {
   "cell_type": "code",
   "execution_count": 74,
   "id": "6c3ea587-24c2-4e2c-aaa5-1d730efde502",
   "metadata": {},
   "outputs": [
    {
     "ename": "TypeError",
     "evalue": "unbound method str.join() needs an argument",
     "output_type": "error",
     "traceback": [
      "\u001b[0;31m---------------------------------------------------------------------------\u001b[0m",
      "\u001b[0;31mTypeError\u001b[0m                                 Traceback (most recent call last)",
      "Cell \u001b[0;32mIn[74], line 1\u001b[0m\n\u001b[0;32m----> 1\u001b[0m \u001b[43ms5\u001b[49m\u001b[38;5;241;43m.\u001b[39;49m\u001b[43mjoin\u001b[49m\u001b[43m(\u001b[49m\u001b[43m)\u001b[49m\n",
      "\u001b[0;31mTypeError\u001b[0m: unbound method str.join() needs an argument"
     ]
    }
   ],
   "source": [
    "s5.join()"
   ]
  },
  {
   "cell_type": "code",
   "execution_count": 75,
   "id": "7e246b19-e938-40a7-a914-1ddf6f0c5620",
   "metadata": {},
   "outputs": [],
   "source": [
    "s = '  Hello  World   From DigitalOcean   '"
   ]
  },
  {
   "cell_type": "code",
   "execution_count": 76,
   "id": "bab1ef3e-aa78-4da9-9b15-fc05fbf723f6",
   "metadata": {},
   "outputs": [
    {
     "data": {
      "text/plain": [
       "'HelloWorldFromDigitalOcean'"
      ]
     },
     "execution_count": 76,
     "metadata": {},
     "output_type": "execute_result"
    }
   ],
   "source": [
    "s.replace(' ',\"\")"
   ]
  },
  {
   "cell_type": "code",
   "execution_count": null,
   "id": "5212c9fe-9cb4-452d-8ee2-aaa163d606b9",
   "metadata": {},
   "outputs": [],
   "source": []
  }
 ],
 "metadata": {
  "kernelspec": {
   "display_name": "Python 3 (ipykernel)",
   "language": "python",
   "name": "python3"
  },
  "language_info": {
   "codemirror_mode": {
    "name": "ipython",
    "version": 3
   },
   "file_extension": ".py",
   "mimetype": "text/x-python",
   "name": "python",
   "nbconvert_exporter": "python",
   "pygments_lexer": "ipython3",
   "version": "3.10.8"
  }
 },
 "nbformat": 4,
 "nbformat_minor": 5
}
